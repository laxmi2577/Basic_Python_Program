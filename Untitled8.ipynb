{
  "nbformat": 4,
  "nbformat_minor": 0,
  "metadata": {
    "colab": {
      "provenance": [],
      "authorship_tag": "ABX9TyN7GSLGdtuk0jfoYPMh8tBA",
      "include_colab_link": true
    },
    "kernelspec": {
      "name": "python3",
      "display_name": "Python 3"
    },
    "language_info": {
      "name": "python"
    }
  },
  "cells": [
    {
      "cell_type": "markdown",
      "metadata": {
        "id": "view-in-github",
        "colab_type": "text"
      },
      "source": [
        "<a href=\"https://colab.research.google.com/github/laxmi2577/LAXMIRANJAN_AIML_2001206049/blob/main/Untitled8.ipynb\" target=\"_parent\"><img src=\"https://colab.research.google.com/assets/colab-badge.svg\" alt=\"Open In Colab\"/></a>"
      ]
    },
    {
      "cell_type": "code",
      "execution_count": null,
      "metadata": {
        "id": "2p2rejy0pvie",
        "colab": {
          "base_uri": "https://localhost:8080/"
        },
        "outputId": "8e0402fd-4c0d-4b37-c2fe-aa2495332964"
      },
      "outputs": [
        {
          "output_type": "stream",
          "name": "stdout",
          "text": [
            "INPUT a=5\n",
            "INPUT b=3\n",
            "8\n",
            "15\n"
          ]
        }
      ],
      "source": [
        "#WAP the base class content addition of 2 no but the derive class content multiplction of 2 no\n",
        "class A():\n",
        " def sum(self,a,b):\n",
        "  return a+b\n",
        "class B(A):\n",
        " def mul(self,a,b):\n",
        "  return a*b\n",
        "d=B()\n",
        "a=int(input('INPUT a='))\n",
        "b=int(input('INPUT b='))\n",
        "print(d.sum(a,b))\n",
        "print(d.mul(a,b))"
      ]
    },
    {
      "cell_type": "code",
      "source": [
        "#WAP usig multi level inheritance to devlope a calculator which content four derive of derive class and only one child class\n",
        "class A():\n",
        " def sum(self,a,b):\n",
        "  return a+b\n",
        "class B(A):\n",
        " def sub(self,a,b):\n",
        "  return a-b\n",
        "class C(B):\n",
        " def mul(self,a,b):\n",
        "  return a*b\n",
        "class D(C):\n",
        " def div(self,a,b):\n",
        "  return a/b\n",
        "class E(D):\n",
        " def rem(self,a,b):\n",
        "  return a%b\n",
        "d=E()\n",
        "a=int(input('INPUT a='))\n",
        "b=int(input('INPUT b='))\n",
        "print(d.sum(a,b))\n",
        "print(d.sub(a,b))\n",
        "print(d.mul(a,b))\n",
        "print(d.div(a,b))\n",
        "print(d.rem(a,b))"
      ],
      "metadata": {
        "colab": {
          "base_uri": "https://localhost:8080/"
        },
        "id": "7AUd2tRovj6R",
        "outputId": "8cc49837-3ab2-4688-8f0d-77bc488e6623"
      },
      "execution_count": null,
      "outputs": [
        {
          "output_type": "stream",
          "name": "stdout",
          "text": [
            "INPUT a=5\n",
            "INPUT b=4\n",
            "9\n",
            "1\n",
            "20\n",
            "1.25\n",
            "1\n"
          ]
        }
      ]
    },
    {
      "cell_type": "code",
      "source": [
        "class A():\n",
        " def sum(self,a,b):\n",
        "  return a+b\n",
        "class B():\n",
        " def sub(self,a,b):\n",
        "  return a-b\n",
        "class C():\n",
        " def mul(self,a,b):\n",
        "  return a*b\n",
        "class D():\n",
        " def div(self,a,b):\n",
        "  return a/b\n",
        "class E(A,B,C,D):\n",
        " def rem(self,a,b):\n",
        "  return a%b\n",
        "d=E()\n",
        "a=int(input('INPUT a='))\n",
        "b=int(input('INPUT b='))\n",
        "print(d.sum(a,b))\n",
        "print(d.sub(a,b))\n",
        "print(d.mul(a,b))\n",
        "print(d.div(a,b))\n",
        "print(d.rem(a,b))"
      ],
      "metadata": {
        "colab": {
          "base_uri": "https://localhost:8080/"
        },
        "id": "Y07AcSBg3nSx",
        "outputId": "bca6b565-810f-4de6-eed6-01eb79fba401"
      },
      "execution_count": null,
      "outputs": [
        {
          "output_type": "stream",
          "name": "stdout",
          "text": [
            "INPUT a=5\n",
            "INPUT b=4\n",
            "9\n",
            "1\n",
            "20\n",
            "1.25\n",
            "1\n"
          ]
        }
      ]
    },
    {
      "cell_type": "code",
      "source": [
        "import numpy as np\n",
        "print(np.__version__)"
      ],
      "metadata": {
        "id": "xUjXY5hzzAzy",
        "colab": {
          "base_uri": "https://localhost:8080/"
        },
        "outputId": "9ee2bd53-af4f-4d99-b5a1-b96b92347697"
      },
      "execution_count": null,
      "outputs": [
        {
          "output_type": "stream",
          "name": "stdout",
          "text": [
            "1.22.4\n"
          ]
        }
      ]
    },
    {
      "cell_type": "code",
      "source": [
        "import numpy\n",
        "list=[10,20,30,40,50]\n",
        "arr=numpy.array(list)\n",
        "print(arr)"
      ],
      "metadata": {
        "colab": {
          "base_uri": "https://localhost:8080/"
        },
        "id": "8yBfyFGk483h",
        "outputId": "e357482d-7fd8-492e-e4b1-19b554392390"
      },
      "execution_count": null,
      "outputs": [
        {
          "output_type": "stream",
          "name": "stdout",
          "text": [
            "[10 20 30 40 50]\n"
          ]
        }
      ]
    },
    {
      "cell_type": "code",
      "source": [
        "import numpy\n",
        "list=[10,20,30,40,50]\n",
        "arr=np.array(list)\n",
        "print('SIZE:',arr.size)\n",
        "print('DATATYPE:',arr.dtype)\n",
        "print('SIMENSION:',arr.ndim)\n",
        "print('SHAPE:',arr.shape)"
      ],
      "metadata": {
        "colab": {
          "base_uri": "https://localhost:8080/"
        },
        "id": "tCOh2uJd6rKi",
        "outputId": "58cb2f4f-40ca-4b34-b066-ca683542f965"
      },
      "execution_count": null,
      "outputs": [
        {
          "output_type": "stream",
          "name": "stdout",
          "text": [
            "SIZE: 5\n",
            "DATATYPE: int64\n",
            "SIMENSION: 1\n",
            "SHAPE: (5,)\n"
          ]
        }
      ]
    },
    {
      "cell_type": "code",
      "source": [
        "import numpy as np\n",
        "list=[[10,20,30],[40,50]]\n",
        "arr=np.array(list)\n",
        "print(arr[1])"
      ],
      "metadata": {
        "colab": {
          "base_uri": "https://localhost:8080/"
        },
        "id": "zdBu0s_l7q16",
        "outputId": "a253259f-29df-4fd6-c799-c5acc6bc54ea"
      },
      "execution_count": null,
      "outputs": [
        {
          "output_type": "stream",
          "name": "stdout",
          "text": [
            "[list([10, 20, 30]) list([40, 50])]\n"
          ]
        },
        {
          "output_type": "stream",
          "name": "stderr",
          "text": [
            "<ipython-input-13-88c22de254df>:3: VisibleDeprecationWarning: Creating an ndarray from ragged nested sequences (which is a list-or-tuple of lists-or-tuples-or ndarrays with different lengths or shapes) is deprecated. If you meant to do this, you must specify 'dtype=object' when creating the ndarray.\n",
            "  arr=np.array(list)\n"
          ]
        }
      ]
    },
    {
      "cell_type": "code",
      "source": [
        "import numpy as np\n",
        "list=[10,20,30,40,50]\n",
        "arr=np.array(list)\n",
        "print('element')\n",
        "for ele in arr:\n",
        "  print(ele)"
      ],
      "metadata": {
        "colab": {
          "base_uri": "https://localhost:8080/"
        },
        "id": "X6vKFMNV_ZOR",
        "outputId": "88217c5d-99f9-458a-d4be-c02e44e8a706"
      },
      "execution_count": null,
      "outputs": [
        {
          "output_type": "stream",
          "name": "stdout",
          "text": [
            "element\n",
            "10\n",
            "20\n",
            "30\n",
            "40\n",
            "50\n"
          ]
        }
      ]
    },
    {
      "cell_type": "code",
      "source": [
        "import numpy as np\n",
        "list=[10,20,30,40,50]\n",
        "arr=np.array(list)\n",
        "print('element')\n",
        "for ele in arr:\n",
        "  print(ele*2)"
      ],
      "metadata": {
        "colab": {
          "base_uri": "https://localhost:8080/"
        },
        "id": "XARZrt0wAQI2",
        "outputId": "7240945f-e07b-4070-b6a7-9016ffb6d593"
      },
      "execution_count": null,
      "outputs": [
        {
          "output_type": "stream",
          "name": "stdout",
          "text": [
            "element\n",
            "20\n",
            "40\n",
            "60\n",
            "80\n",
            "100\n"
          ]
        }
      ]
    },
    {
      "cell_type": "code",
      "source": [
        "import numpy as np\n",
        "ndArray=np.array([1,2,3,4],ndmin=6)\n",
        "print(ndArray)\n",
        "print(ndArray.ndim)"
      ],
      "metadata": {
        "colab": {
          "base_uri": "https://localhost:8080/"
        },
        "id": "flTTjk8P_wk_",
        "outputId": "f3673793-4ac2-42e3-f028-8ec6ff4179f1"
      },
      "execution_count": null,
      "outputs": [
        {
          "output_type": "stream",
          "name": "stdout",
          "text": [
            "[[[[[[1 2 3 4]]]]]]\n",
            "6\n"
          ]
        }
      ]
    },
    {
      "cell_type": "code",
      "source": [
        "import numpy as np\n",
        "list=[[10,20,30],[40,50,60],[70,80,90]]\n",
        "th_di_arr=np.array(list)\n",
        "print(th_di_arr)"
      ],
      "metadata": {
        "colab": {
          "base_uri": "https://localhost:8080/"
        },
        "id": "1McaXpOk-ZOV",
        "outputId": "7167829b-72db-497c-e538-9a08cbf1bc04"
      },
      "execution_count": null,
      "outputs": [
        {
          "output_type": "stream",
          "name": "stdout",
          "text": [
            "[[10 20 30]\n",
            " [40 50 60]\n",
            " [70 80 90]]\n"
          ]
        }
      ]
    },
    {
      "cell_type": "code",
      "source": [
        "import numpy as np\n",
        "list=[[10,20,30],[40,50,60]]\n",
        "arr=np.array(list)\n",
        "print('Element')\n",
        "for ele in arr:\n",
        " print(ele)"
      ],
      "metadata": {
        "colab": {
          "base_uri": "https://localhost:8080/"
        },
        "id": "38-d3dufX4y3",
        "outputId": "45473faa-4ba0-42dc-89b2-4c40b4177249"
      },
      "execution_count": 3,
      "outputs": [
        {
          "output_type": "stream",
          "name": "stdout",
          "text": [
            "Element\n",
            "[10 20 30]\n",
            "[40 50 60]\n"
          ]
        }
      ]
    },
    {
      "cell_type": "code",
      "source": [
        "import numpy as np\n",
        "list=[[10,20,30],[40,50,60],[70,80,90]]\n",
        "arr=np.array(list)\n",
        "print('Element')\n",
        "for ele in arr:\n",
        " print(ele)"
      ],
      "metadata": {
        "colab": {
          "base_uri": "https://localhost:8080/"
        },
        "id": "IMql0S4nY1F_",
        "outputId": "44c5ea89-4963-4e39-9bde-b87a540f32f3"
      },
      "execution_count": 4,
      "outputs": [
        {
          "output_type": "stream",
          "name": "stdout",
          "text": [
            "Element\n",
            "[10 20 30]\n",
            "[40 50 60]\n",
            "[70 80 90]\n"
          ]
        }
      ]
    },
    {
      "cell_type": "code",
      "source": [
        "print(\"%10.3e\"% (356.08977))"
      ],
      "metadata": {
        "colab": {
          "base_uri": "https://localhost:8080/"
        },
        "id": "O8BLb5nmY5of",
        "outputId": "f30ec726-9478-4d76-dfeb-e3066c20df38"
      },
      "execution_count": 5,
      "outputs": [
        {
          "output_type": "stream",
          "name": "stdout",
          "text": [
            " 3.561e+02\n"
          ]
        }
      ]
    },
    {
      "cell_type": "code",
      "source": [
        "import numpy\n",
        "n = int (input('Enter Size:'))\n",
        "arr = numpy.ndarray(shape=(n),dtype=int)\n",
        "print('Enter %d element :'%n)\n",
        "for i in range(n):\n",
        " arr[i]=int(input())\n",
        "print('Array Elements :', arr)"
      ],
      "metadata": {
        "colab": {
          "base_uri": "https://localhost:8080/"
        },
        "id": "BjcGrgvhZDTE",
        "outputId": "dddfac76-0685-443f-ea4a-6a81b2aa3e19"
      },
      "execution_count": 8,
      "outputs": [
        {
          "output_type": "stream",
          "name": "stdout",
          "text": [
            "Enter Size:2\n",
            "Enter 2 element :\n",
            "11\n",
            "65\n",
            "Array Elements : [11 65]\n"
          ]
        }
      ]
    },
    {
      "cell_type": "code",
      "source": [
        "import numpy\n",
        "n = int (input('Enter Size:'))\n",
        "arr = numpy.ndarray(shape=(n),dtype=int)\n",
        "print('Enter %d element :'%n)\n",
        "sum=0\n",
        "for i in range(n):\n",
        " arr[i]=int(input())\n",
        " sum=sum+arr[i]\n",
        "print('Array Elements :', arr)\n",
        "print(sum)"
      ],
      "metadata": {
        "colab": {
          "base_uri": "https://localhost:8080/"
        },
        "id": "Mjqoylmyabn5",
        "outputId": "b41b5954-eca1-46a4-862b-6177d1f61e45"
      },
      "execution_count": 12,
      "outputs": [
        {
          "output_type": "stream",
          "name": "stdout",
          "text": [
            "Enter Size:2\n",
            "Enter 2 element :\n",
            "11\n",
            "22\n",
            "Array Elements : [11 22]\n",
            "33\n"
          ]
        }
      ]
    },
    {
      "cell_type": "code",
      "source": [
        "import numpy\n",
        "n = int (input('Enter Size:'))\n",
        "arr = numpy.ndarray(shape=(n),dtype=int)\n",
        "print('Enter %d element :'%n)\n",
        "def oddcount(a,o):\n",
        "  if a%2!=0:\n",
        "    o+=1\n",
        "  return o\n",
        "def evencount(a,e):\n",
        "  if a%2==0:\n",
        "    e+=1\n",
        "  return e\n",
        "o=0\n",
        "e=0\n",
        "for i in range(n):\n",
        "  arr[i]=int(input())\n",
        "  o=oddcount(arr[i],o)\n",
        "  e=evencount(arr[i],e)\n",
        "print('Array Elements :', arr)\n",
        "print('ODD NUMBER=',o)\n",
        "print('EVEN NUMBER=5',e)"
      ],
      "metadata": {
        "colab": {
          "base_uri": "https://localhost:8080/"
        },
        "id": "P5A0F67qbSOX",
        "outputId": "901bd203-867a-4d64-d254-8ac26a13e2f7"
      },
      "execution_count": 14,
      "outputs": [
        {
          "output_type": "stream",
          "name": "stdout",
          "text": [
            "Enter Size:4\n",
            "Enter 4 element :\n",
            "10\n",
            "2\n",
            "3\n",
            "24\n",
            "Array Elements : [10  2  3 24]\n",
            "ODD NUMBER= 1\n",
            "EVEN NUMBER= 3\n"
          ]
        }
      ]
    },
    {
      "cell_type": "code",
      "source": [
        "import numpy\n",
        "m = int (input('Enter Row Size:'))\n",
        "n = int (input('Enter Column Size:'))\n",
        "arr = numpy.ndarray(shape=(m,n),dtype=int)\n",
        "print('Size :', arr.size)\n",
        "print('Shape :', arr.shape)\n",
        "print('Dimension :', arr.ndim)"
      ],
      "metadata": {
        "colab": {
          "base_uri": "https://localhost:8080/"
        },
        "id": "bmGIL8seZyUi",
        "outputId": "f74a3a41-d383-4ab1-9c42-a7c4daa42415"
      },
      "execution_count": 10,
      "outputs": [
        {
          "output_type": "stream",
          "name": "stdout",
          "text": [
            "Enter Row Size:2\n",
            "Enter Column Size:3\n",
            "Size : 6\n",
            "Shape : (2, 3)\n",
            "Dimension : 2\n"
          ]
        }
      ]
    },
    {
      "cell_type": "code",
      "source": [
        "import numpy as np\n",
        "list=[[10,20,30],[40,50,60],[70,80,90]]\n",
        "arr=np.array(list)\n",
        "print(arr)\n",
        "print('Slicing...... .....')\n",
        "res=arr[:,:]\n",
        "print(res)"
      ],
      "metadata": {
        "colab": {
          "base_uri": "https://localhost:8080/"
        },
        "id": "hbmuDjq5Zpyl",
        "outputId": "3f0690e7-1e88-4ef2-dedc-9aa54d7e295f"
      },
      "execution_count": 11,
      "outputs": [
        {
          "output_type": "stream",
          "name": "stdout",
          "text": [
            "[[10 20 30]\n",
            " [40 50 60]\n",
            " [70 80 90]]\n",
            "Slicing...... .....\n",
            "[[10 20 30]\n",
            " [40 50 60]\n",
            " [70 80 90]]\n"
          ]
        }
      ]
    },
    {
      "cell_type": "code",
      "source": [
        "import numpy as np\n",
        "list=[[10,20,30],[40,50,60],[70,80,90]]\n",
        "arr=np.array(list)\n",
        "print(arr)\n",
        "print('Slicing...... .....')\n",
        "res=arr[0:3,1:3]\n",
        "print(res)"
      ],
      "metadata": {
        "colab": {
          "base_uri": "https://localhost:8080/"
        },
        "id": "lPrhEP8dgW0w",
        "outputId": "7c720faf-9efc-4f18-8700-9c8e8b072f30"
      },
      "execution_count": 17,
      "outputs": [
        {
          "output_type": "stream",
          "name": "stdout",
          "text": [
            "[[10 20 30]\n",
            " [40 50 60]\n",
            " [70 80 90]]\n",
            "Slicing...... .....\n",
            "[[20 30]\n",
            " [50 60]\n",
            " [80 90]]\n"
          ]
        }
      ]
    },
    {
      "cell_type": "code",
      "source": [
        "import numpy as np\n",
        "list=[[10,20,30],[40,50,60],[70,80,90]]\n",
        "arr=np.array(list)\n",
        "print(arr)\n",
        "print('Slicing...... .....')\n",
        "res=arr[1:3,1:3]\n",
        "print(res)"
      ],
      "metadata": {
        "colab": {
          "base_uri": "https://localhost:8080/"
        },
        "id": "6noUAHA6hiYY",
        "outputId": "12b24afa-7155-4fee-c7b8-bcf450a900c4"
      },
      "execution_count": 18,
      "outputs": [
        {
          "output_type": "stream",
          "name": "stdout",
          "text": [
            "[[10 20 30]\n",
            " [40 50 60]\n",
            " [70 80 90]]\n",
            "Slicing...... .....\n",
            "[[50 60]\n",
            " [80 90]]\n"
          ]
        }
      ]
    },
    {
      "cell_type": "code",
      "source": [
        "str1 = \"HELLO LIPUN\" \n",
        "slic = slice(0,10,3)\n",
        "slic2 = slice(-1,0,-3)  \n",
        "str2 = str1[slic] \n",
        "str3 = str1[slic2] \n",
        "print(str2) \n",
        "print(str3) "
      ],
      "metadata": {
        "colab": {
          "base_uri": "https://localhost:8080/"
        },
        "id": "iSO3F91wia-j",
        "outputId": "6a23c2e0-8503-463a-8447-b12b4dbd7f8f"
      },
      "execution_count": 22,
      "outputs": [
        {
          "output_type": "stream",
          "name": "stdout",
          "text": [
            "HLLU\n",
            "NIOE\n"
          ]
        }
      ]
    },
    {
      "cell_type": "code",
      "source": [
        "x = \"Lipun at work\"\n",
        "print(x[0:5])"
      ],
      "metadata": {
        "colab": {
          "base_uri": "https://localhost:8080/"
        },
        "id": "rx9E2__ujJA0",
        "outputId": "f64c13af-3560-4b8d-e78a-4feae5347b8b"
      },
      "execution_count": 21,
      "outputs": [
        {
          "output_type": "stream",
          "name": "stdout",
          "text": [
            "Lipun\n"
          ]
        }
      ]
    },
    {
      "cell_type": "code",
      "source": [
        "str='abit is an enginnering college'\n",
        "str1=slice(0,27,3)\n",
        "str2=str[str1]\n",
        "print(str[0:27:5])\n",
        "print(str2)"
      ],
      "metadata": {
        "colab": {
          "base_uri": "https://localhost:8080/"
        },
        "id": "X_CbjioHjlxT",
        "outputId": "b714ea27-7e36-4edf-e056-b27e9bca63e0"
      },
      "execution_count": 25,
      "outputs": [
        {
          "output_type": "stream",
          "name": "stdout",
          "text": [
            "ai nnl\n",
            "atsnnnrgo\n"
          ]
        }
      ]
    },
    {
      "cell_type": "code",
      "source": [
        "import pandas as pd \n",
        "import numpy as np \n",
        "info = np.array(['P','a','n','d','a','s']) \n",
        "a = pd.Series(info) \n",
        "print(a)"
      ],
      "metadata": {
        "colab": {
          "base_uri": "https://localhost:8080/"
        },
        "id": "xy-EaiXck2ze",
        "outputId": "1705be95-22ac-4ba0-9fe0-4c318d60bd6a"
      },
      "execution_count": 26,
      "outputs": [
        {
          "output_type": "stream",
          "name": "stdout",
          "text": [
            "0    P\n",
            "1    a\n",
            "2    n\n",
            "3    d\n",
            "4    a\n",
            "5    s\n",
            "dtype: object\n"
          ]
        }
      ]
    },
    {
      "cell_type": "code",
      "source": [
        "import numpy as np\n",
        "list=[[10,20,30],[40,50,60],[70,80,90]]\n",
        "arr=np.array(list)\n",
        "print(arr)\n",
        "# No Row and Column Size.\n",
        "print('Slicing......')\n",
        "res=arr[:,:]\n",
        "print(res)\n",
        "print('Slicing......')\n",
        "res=arr[0:3,0:3]\n",
        "print(res)"
      ],
      "metadata": {
        "colab": {
          "base_uri": "https://localhost:8080/"
        },
        "id": "APm7J4RdfQCP",
        "outputId": "fd424bbd-3620-4d45-b288-c5be3407990a"
      },
      "execution_count": 15,
      "outputs": [
        {
          "output_type": "stream",
          "name": "stdout",
          "text": [
            "[[10 20 30]\n",
            " [40 50 60]\n",
            " [70 80 90]]\n",
            "Slicing......\n",
            "[[10 20 30]\n",
            " [40 50 60]\n",
            " [70 80 90]]\n",
            "Slicing......\n",
            "[[10 20 30]\n",
            " [40 50 60]\n",
            " [70 80 90]]\n"
          ]
        }
      ]
    }
  ]
}
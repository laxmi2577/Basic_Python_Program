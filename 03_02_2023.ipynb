{
  "cells": [
    {
      "cell_type": "markdown",
      "metadata": {
        "id": "view-in-github",
        "colab_type": "text"
      },
      "source": [
        "<a href=\"https://colab.research.google.com/github/laxmi2577/LAXMIRANJAN_AIML_2001206049/blob/main/03_02_2023.ipynb\" target=\"_parent\"><img src=\"https://colab.research.google.com/assets/colab-badge.svg\" alt=\"Open In Colab\"/></a>"
      ]
    },
    {
      "cell_type": "code",
      "execution_count": 2,
      "metadata": {
        "colab": {
          "base_uri": "https://localhost:8080/"
        },
        "id": "-TtWTovWbC_l",
        "outputId": "dfe0b189-e0df-4938-a446-3d683816ee3e"
      },
      "outputs": [
        {
          "output_type": "stream",
          "name": "stdout",
          "text": [
            "ENTER YOUR CHOICE:6\n",
            "6\n",
            "12\n",
            "18\n",
            "24\n",
            "30\n",
            "36\n",
            "42\n",
            "48\n",
            "54\n",
            "60\n"
          ]
        }
      ],
      "source": [
        "list=[1,2,3,4,5,6,7,8,9,10]\n",
        "n=int(input('ENTER YOUR CHOICE: '))\n",
        "for i in list:\n",
        "   c=n*i\n",
        "   print(c)"
      ]
    },
    {
      "cell_type": "code",
      "source": [
        "#USING RANGE() IN FOR LOOP\n",
        "for i in range(10):\n",
        "  print(i,end=' ')"
      ],
      "metadata": {
        "colab": {
          "base_uri": "https://localhost:8080/"
        },
        "id": "7ZuitHz9fL7W",
        "outputId": "23079605-b91c-40dd-f0ec-825d14b33e01"
      },
      "execution_count": 6,
      "outputs": [
        {
          "output_type": "stream",
          "name": "stdout",
          "text": [
            "0 1 2 3 4 5 6 7 8 9 "
          ]
        }
      ]
    },
    {
      "cell_type": "code",
      "source": [
        "n=int(input(\"ENTER THE NUMBER :\"))\n",
        "for i in range(1,11):\n",
        "  c=n*i\n",
        "  print(n,\"*\",i,\"=\",c)"
      ],
      "metadata": {
        "colab": {
          "base_uri": "https://localhost:8080/"
        },
        "id": "f5fkJdymhhsV",
        "outputId": "1b3fe9c9-f091-4153-f843-53fb73459fc1"
      },
      "execution_count": 8,
      "outputs": [
        {
          "output_type": "stream",
          "name": "stdout",
          "text": [
            "ENTER THE NUMBER :6\n",
            "6 * 1 = 6\n",
            "6 * 2 = 12\n",
            "6 * 3 = 18\n",
            "6 * 4 = 24\n",
            "6 * 5 = 30\n",
            "6 * 6 = 36\n",
            "6 * 7 = 42\n",
            "6 * 8 = 48\n",
            "6 * 9 = 54\n",
            "6 * 10 = 60\n"
          ]
        }
      ]
    },
    {
      "cell_type": "code",
      "source": [
        "n=int(input(\"ENTER THE NUMBER :\"))\n",
        "sum=0\n",
        "for i in range(2,n,2):\n",
        "  sum=sum+i\n",
        "print('SUM IS=',sum)"
      ],
      "metadata": {
        "colab": {
          "base_uri": "https://localhost:8080/"
        },
        "id": "UTdhCoP5iRTJ",
        "outputId": "f806b022-767c-4656-a989-65547d77c402"
      },
      "execution_count": 14,
      "outputs": [
        {
          "output_type": "stream",
          "name": "stdout",
          "text": [
            "ENTER THE NUMBER :10\n",
            "SUM IS= 20\n"
          ]
        }
      ]
    },
    {
      "cell_type": "code",
      "source": [
        "for i in range(5):\n",
        "  for j in range(5):\n",
        "     print(i+1,end=' ')\n",
        "  print()"
      ],
      "metadata": {
        "id": "XdySwDV_leRO",
        "outputId": "9fb4303b-b51e-4597-dd80-4aa94fbf3440",
        "colab": {
          "base_uri": "https://localhost:8080/"
        }
      },
      "execution_count": 17,
      "outputs": [
        {
          "output_type": "stream",
          "name": "stdout",
          "text": [
            "1 1 1 1 1 \n",
            "2 2 2 2 2 \n",
            "3 3 3 3 3 \n",
            "4 4 4 4 4 \n",
            "5 5 5 5 5 \n"
          ]
        }
      ]
    },
    {
      "cell_type": "code",
      "source": [
        "#NESTED FOR LOOP\n",
        "for i in range(5):\n",
        "  for j in range(5):\n",
        "     print(i,end=' ')\n",
        "  print()"
      ],
      "metadata": {
        "id": "PJNGke5dnm8N",
        "outputId": "80d75924-8844-4c5a-b9f0-c134ce70a571",
        "colab": {
          "base_uri": "https://localhost:8080/"
        }
      },
      "execution_count": 15,
      "outputs": [
        {
          "output_type": "stream",
          "name": "stdout",
          "text": [
            "0 0 0 0 0 \n",
            "1 1 1 1 1 \n",
            "2 2 2 2 2 \n",
            "3 3 3 3 3 \n",
            "4 4 4 4 4 \n"
          ]
        }
      ]
    },
    {
      "cell_type": "code",
      "source": [
        "r=int(input(\"ENTER THE NUMBER :\"))\n",
        "for i in range(0,r+1):\n",
        "  for j in range(i):\n",
        "    print(\"*\",end=' ')\n",
        "  print()"
      ],
      "metadata": {
        "id": "ibF8pa7Po_Rd",
        "outputId": "eaeb1a66-f877-4c49-b742-222a7463ca93",
        "colab": {
          "base_uri": "https://localhost:8080/"
        }
      },
      "execution_count": 18,
      "outputs": [
        {
          "output_type": "stream",
          "name": "stdout",
          "text": [
            "ENTER THE NUMBER :5\n",
            "\n",
            "* \n",
            "* * \n",
            "* * * \n",
            "* * * * \n",
            "* * * * * \n"
          ]
        }
      ]
    },
    {
      "cell_type": "code",
      "source": [
        "r=int(input(\"ENTER THE NUMBER :\"))\n",
        "for i in range(0,r+1):\n",
        "  for j in range(i):\n",
        "    print(i,end=' ')\n",
        "  print()"
      ],
      "metadata": {
        "id": "Vce9HouYpn2e",
        "outputId": "8e459d40-22c0-407b-d950-5b996a77fadf",
        "colab": {
          "base_uri": "https://localhost:8080/"
        }
      },
      "execution_count": 19,
      "outputs": [
        {
          "output_type": "stream",
          "name": "stdout",
          "text": [
            "ENTER THE NUMBER :5\n",
            "\n",
            "1 \n",
            "2 2 \n",
            "3 3 3 \n",
            "4 4 4 4 \n",
            "5 5 5 5 5 \n"
          ]
        }
      ]
    },
    {
      "cell_type": "code",
      "source": [
        "#using while loop\n",
        "s=0\n",
        "i=1\n",
        "while i<=10:\n",
        "  s=s+i\n",
        "  i=i+1\n",
        "print(\"SUM FROM 1 TO 10=\",s)"
      ],
      "metadata": {
        "id": "gMCz8cIurM9A",
        "outputId": "e66518b5-7925-4ba7-c68b-5d6ec8a8b1c5",
        "colab": {
          "base_uri": "https://localhost:8080/"
        }
      },
      "execution_count": 21,
      "outputs": [
        {
          "output_type": "stream",
          "name": "stdout",
          "text": [
            "SUM FROM 1 TO 10= 55\n"
          ]
        }
      ]
    },
    {
      "cell_type": "code",
      "source": [
        "n=int(input(\"ENTER THE NUMBER :\"))\n",
        "r=0\n",
        "\n",
        "while n>0:\n",
        "  d=int(n%10)\n",
        "  r=r*10+d\n",
        "  n=int(n/10)\n",
        "print('REVERSE=',r)"
      ],
      "metadata": {
        "id": "qFZuM3CSsLDB",
        "outputId": "8f0b2145-c9c5-471d-935c-86455d4f4cd1",
        "colab": {
          "base_uri": "https://localhost:8080/"
        }
      },
      "execution_count": 25,
      "outputs": [
        {
          "output_type": "stream",
          "name": "stdout",
          "text": [
            "ENTER THE NUMBER :456\n",
            "REVERSE= 654\n"
          ]
        }
      ]
    },
    {
      "cell_type": "code",
      "source": [
        "list=['LIPUN','BAISAKHI','SUNIL','BIKASH']\n",
        "for i in range(len(list)):\n",
        "  print(\"HELLO\",list[i])"
      ],
      "metadata": {
        "colab": {
          "base_uri": "https://localhost:8080/"
        },
        "id": "F_pQGwbaizUl",
        "outputId": "9a57c8fe-2d23-43c2-c8d1-83f002195104"
      },
      "execution_count": 10,
      "outputs": [
        {
          "output_type": "stream",
          "name": "stdout",
          "text": [
            "HELLO LIPUN\n",
            "HELLO BAISAKHI\n",
            "HELLO SUNIL\n",
            "HELLO BIKASH\n"
          ]
        }
      ]
    },
    {
      "cell_type": "code",
      "source": [
        "list=[10,30,23,43,65,12]\n",
        "sum=0\n",
        "for i in list:\n",
        "  sum=sum+i\n",
        "print(\"THE SUM IS = \",sum)"
      ],
      "metadata": {
        "colab": {
          "base_uri": "https://localhost:8080/"
        },
        "id": "OEqBNYiPeOPk",
        "outputId": "80ed5c23-4ebd-4e15-9195-f61e26b8d63e"
      },
      "execution_count": 3,
      "outputs": [
        {
          "output_type": "stream",
          "name": "stdout",
          "text": [
            "THE SUM IS =  183\n"
          ]
        }
      ]
    }
  ],
  "metadata": {
    "colab": {
      "provenance": [],
      "authorship_tag": "ABX9TyP1TarZxBkrCgUaeSw4aB1P",
      "include_colab_link": true
    },
    "kernelspec": {
      "display_name": "Python 3",
      "name": "python3"
    },
    "language_info": {
      "name": "python"
    }
  },
  "nbformat": 4,
  "nbformat_minor": 0
}
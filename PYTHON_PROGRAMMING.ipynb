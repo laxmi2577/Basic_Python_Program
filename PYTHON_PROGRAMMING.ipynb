{
  "nbformat": 4,
  "nbformat_minor": 0,
  "metadata": {
    "colab": {
      "provenance": [],
      "authorship_tag": "ABX9TyNm29+Um7ToFre7MzBQVgDX",
      "include_colab_link": true
    },
    "kernelspec": {
      "name": "python3",
      "display_name": "Python 3"
    },
    "language_info": {
      "name": "python"
    }
  },
  "cells": [
    {
      "cell_type": "markdown",
      "metadata": {
        "id": "view-in-github",
        "colab_type": "text"
      },
      "source": [
        "<a href=\"https://colab.research.google.com/github/laxmi2577/LAXMIRANJAN_AIML_2001206049/blob/main/PYTHON_PROGRAMMING.ipynb\" target=\"_parent\"><img src=\"https://colab.research.google.com/assets/colab-badge.svg\" alt=\"Open In Colab\"/></a>"
      ]
    },
    {
      "cell_type": "code",
      "execution_count": null,
      "metadata": {
        "colab": {
          "base_uri": "https://localhost:8080/"
        },
        "id": "wTYE9ckdvsIL",
        "outputId": "6a463cbd-2813-4479-ab5c-83e5fb3769ba"
      },
      "outputs": [
        {
          "output_type": "stream",
          "name": "stdout",
          "text": [
            "ENTER n: 40\n",
            "1, 2, 3, 4, 5, 6, 7, 8, 9, 10, 11, 12, 13, 14, 15, 16, 17, 18, 19, 20, 21, 22, 23, 24, 25, 26, 27, 28, 29, 30, 31, 32, 33, 34, 35, 36, 37, 38, 39, 40, \n",
            "Enter n: 40\n",
            "1, 2, 3, 4, 5, 6, 7, 8, 9, 10, 11, 12, 13, 14, 15, 16, 17, 18, 19, 20, 21, 22, 23, 24, 25, 26, 27, 28, 29, 30, 31, 32, 33, 34, 35, 36, 37, 38, 39, 40, "
          ]
        }
      ],
      "source": [
        "#2(i)FOR LOOP\n",
        "n=int(input(\"ENTER n: \"))\n",
        "for i in range(n):\n",
        "  print(i+1,end=', ')\n",
        "\n",
        "#WHILE LOOP\n",
        "\n",
        "n = int(input(\"\\nEnter n: \"))\n",
        "i=1\n",
        "while i<=n:\n",
        "   print(i, end=', ')\n",
        "   i=i+1"
      ]
    },
    {
      "cell_type": "code",
      "source": [
        "#2(ii)FOR LOOP\n",
        "n=int(input(\"ENTER n: \"))\n",
        "for i in range(1,n,2):\n",
        "  print(i,end=', ')\n",
        "   \n",
        "#WHILE LOOP\n",
        "\n",
        "n = int(input(\"\\nENTER n: \"))\n",
        "i=1\n",
        "while i<=n:\n",
        "   if i%2!=0:\n",
        "     print(i, end=', ')\n",
        "   i=i+1"
      ],
      "metadata": {
        "colab": {
          "base_uri": "https://localhost:8080/"
        },
        "id": "Ou6m_f0kwg5t",
        "outputId": "b2eaa58a-9370-4b7b-b711-095daf9e3591"
      },
      "execution_count": null,
      "outputs": [
        {
          "output_type": "stream",
          "name": "stdout",
          "text": [
            "ENTER n: 40\n",
            "1, 3, 5, 7, 9, 11, 13, 15, 17, 19, 21, 23, 25, 27, 29, 31, 33, 35, 37, 39, \n",
            "ENTER n: 40\n",
            "1, 3, 5, 7, 9, 11, 13, 15, 17, 19, 21, 23, 25, 27, 29, 31, 33, 35, 37, 39, "
          ]
        }
      ]
    },
    {
      "cell_type": "code",
      "source": [
        "#2(iii)FOR LOOP\n",
        "n=int(input(\"ENTER n: \"))\n",
        "for i in range(2,n,2):\n",
        "  print(i,end=', ')\n",
        "\n",
        "#WHILE LOOP\n",
        "\n",
        "n = int(input(\"\\nENTER n: \"))\n",
        "i=1\n",
        "while i<=n:\n",
        "   if i%2==0:\n",
        "     print(i, end=', ')\n",
        "   i=i+1"
      ],
      "metadata": {
        "colab": {
          "base_uri": "https://localhost:8080/"
        },
        "id": "jtA9Bn4bwxrh",
        "outputId": "67323738-533b-4a7d-bfd8-c880f0d455c6"
      },
      "execution_count": null,
      "outputs": [
        {
          "output_type": "stream",
          "name": "stdout",
          "text": [
            "ENTER n: 40\n",
            "2, 4, 6, 8, 10, 12, 14, 16, 18, 20, 22, 24, 26, 28, 30, 32, 34, 36, 38, \n",
            "ENTER n: 40\n",
            "2, 4, 6, 8, 10, 12, 14, 16, 18, 20, 22, 24, 26, 28, 30, 32, 34, 36, 38, 40, "
          ]
        }
      ]
    },
    {
      "cell_type": "code",
      "source": [
        "#2(iv)FOR LOOP\n",
        "n=int(input(\"ENTER n: \"))\n",
        "for i in range(1,n):\n",
        "  c=i*i\n",
        "  print(c,end=', ')\n",
        "\n",
        "#WHILE LOOP\n",
        "\n",
        "n = int(input(\"\\nENTER n: \"))\n",
        "i=1\n",
        "while i<=n:\n",
        "  c=i*i\n",
        "  print(c, end=', ')\n",
        "  i=i+1"
      ],
      "metadata": {
        "colab": {
          "base_uri": "https://localhost:8080/"
        },
        "id": "Q4E4WYdBxDSG",
        "outputId": "9f003602-5ea6-4685-989e-061557266d04"
      },
      "execution_count": null,
      "outputs": [
        {
          "output_type": "stream",
          "name": "stdout",
          "text": [
            "ENTER n: 10\n",
            "1, 4, 9, 16, 25, 36, 49, 64, 81, \n",
            "ENTER n: 10\n",
            "1, 4, 9, 16, 25, 36, 49, 64, 81, 100, "
          ]
        }
      ]
    },
    {
      "cell_type": "code",
      "source": [
        "#2(v)#FOR LOOP\n",
        "n=int(input(\"ENTER n: \"))\n",
        "for i in range(1,n,2):\n",
        "  c=i*i\n",
        "  print(c,end=', ')\n",
        "\n",
        "#WHILE LOOP\n",
        "\n",
        "n = int(input(\"\\nENTER n: \"))\n",
        "i=1\n",
        "while i<=n:\n",
        "  if i%2!=0:\n",
        "    c=i*i\n",
        "    print(c, end=', ')\n",
        "  i=i+1"
      ],
      "metadata": {
        "colab": {
          "base_uri": "https://localhost:8080/"
        },
        "id": "KTeyhJkmzF0C",
        "outputId": "2c36d5d4-1ac9-496d-db27-653faf299700"
      },
      "execution_count": null,
      "outputs": [
        {
          "output_type": "stream",
          "name": "stdout",
          "text": [
            "ENTER n: 10\n",
            "1, 9, 25, 49, 81, \n",
            "ENTER n: 10\n",
            "1, 9, 25, 49, 81, "
          ]
        }
      ]
    },
    {
      "cell_type": "code",
      "source": [
        "#2(vi)#FOR LOOP\n",
        "n=int(input(\"ENTER n: \"))\n",
        "for i in range(2,n,2):\n",
        "  c=i*i\n",
        "  print(c,end=', ') \n",
        "\n",
        "#WHILE LOOP\n",
        "\n",
        "n = int(input(\"\\nENTER n: \")) \n",
        "i=1\n",
        "while i<=n:\n",
        "  if i%2==0:\n",
        "    c=i*i\n",
        "    print(c, end=', ')\n",
        "  i=i+1"
      ],
      "metadata": {
        "colab": {
          "base_uri": "https://localhost:8080/"
        },
        "id": "Acn6MV79zgY7",
        "outputId": "db2ca4e7-b680-4a36-c6fc-2323fda4f39d"
      },
      "execution_count": null,
      "outputs": [
        {
          "output_type": "stream",
          "name": "stdout",
          "text": [
            "ENTER n: 10\n",
            "4, 16, 36, 64, \n",
            "ENTER n: 10\n",
            "4, 16, 36, 64, 100, "
          ]
        }
      ]
    },
    {
      "cell_type": "code",
      "source": [
        "#2(vii)#FOR LOOP\n",
        "n=int(input(\"ENTER n: \"))\n",
        "r=int(input(\"ENTER r: \"))\n",
        "for j in range(1,n):\n",
        "  def power(j,r):\n",
        "    res=0\n",
        "    for i in range(r):\n",
        "        res *= j\n",
        "    return res   \n",
        "  print(pow(j,r),end=', ')\n",
        "\n",
        "#WHILE LOOP\n",
        "\n",
        "n = int(input(\"\\nENTER n: \"))\n",
        "r=int(input(\"ENTER r: \"))\n",
        "i=1\n",
        "while i<=n:\n",
        "  def power(i,r):\n",
        "    res=0\n",
        "    for j in range(r):\n",
        "        res *= i\n",
        "    return res   \n",
        "  print(pow(i,r),end=', ')\n",
        "  i=i+1 "
      ],
      "metadata": {
        "colab": {
          "base_uri": "https://localhost:8080/"
        },
        "id": "kicyugsgztaO",
        "outputId": "0e351999-51a2-4ce6-e718-479f59708c32"
      },
      "execution_count": null,
      "outputs": [
        {
          "output_type": "stream",
          "name": "stdout",
          "text": [
            "ENTER n: 20\n",
            "ENTER r: 5\n",
            "1, 32, 243, 1024, 3125, 7776, 16807, 32768, 59049, 100000, 161051, 248832, 371293, 537824, 759375, 1048576, 1419857, 1889568, 2476099, \n",
            "ENTER n: 20\n",
            "ENTER r: 5\n",
            "1, 32, 243, 1024, 3125, 7776, 16807, 32768, 59049, 100000, 161051, 248832, 371293, 537824, 759375, 1048576, 1419857, 1889568, 2476099, 3200000, "
          ]
        }
      ]
    },
    {
      "cell_type": "code",
      "source": [
        "#2(viii)#FOR LOOP\n",
        "n=int(input(\"ENTER n: \"))\n",
        "r=int(input(\"ENTER r: \"))\n",
        "for j in range(1,n,2):\n",
        "  def power(j,r):\n",
        "    res=0\n",
        "    for i in range(r):\n",
        "        res *= j\n",
        "    return res   \n",
        "  print(pow(j,r),end=', ')\n",
        "\n",
        "#WHILE LOOP\n",
        "\n",
        "n=int(input(\"\\nENTER n: \"))\n",
        "r=int(input(\"ENTER r: \"))\n",
        "i=1\n",
        "while i<=n:\n",
        "  if i%2!=0:\n",
        "     def power(i,r):\n",
        "        res=0\n",
        "        for j in range(r):\n",
        "          res *= i\n",
        "        return res \n",
        "     print(pow(i,r),end=', ')\n",
        "  i=i+1"
      ],
      "metadata": {
        "colab": {
          "base_uri": "https://localhost:8080/"
        },
        "id": "-gQLR_zh0SPl",
        "outputId": "22d17cdd-4059-4d30-ad78-f583890b2054"
      },
      "execution_count": null,
      "outputs": [
        {
          "output_type": "stream",
          "name": "stdout",
          "text": [
            "ENTER n: 20\n",
            "ENTER r: 5\n",
            "1, 243, 3125, 16807, 59049, 161051, 371293, 759375, 1419857, 2476099, \n",
            "ENTER n: 20\n",
            "ENTER r: 5\n",
            "1, 243, 3125, 16807, 59049, 161051, 371293, 759375, 1419857, 2476099, "
          ]
        }
      ]
    },
    {
      "cell_type": "code",
      "source": [
        "#2(ix)#FOR LOOP\n",
        "n=int(input(\"ENTER n: \"))\n",
        "r=int(input(\"ENTER r: \"))\n",
        "for j in range(2,n,2):\n",
        "  def power(j,r):\n",
        "    res=0\n",
        "    for i in range(r):\n",
        "        res *= j\n",
        "    return res   \n",
        "  print(pow(j,r),end=', ')\n",
        "\n",
        "#WHILE LOOP\n",
        "\n",
        "n=int(input(\"\\nENTER n: \"))\n",
        "r=int(input(\"ENTER r: \"))\n",
        "i=1\n",
        "while i<=n:\n",
        "  if i%2==0:\n",
        "     def power(i,r):\n",
        "        res=0\n",
        "        for j in range(r):\n",
        "          res *= i\n",
        "        return res \n",
        "     print(pow(i,r),end=', ')\n",
        "  i=i+1"
      ],
      "metadata": {
        "colab": {
          "base_uri": "https://localhost:8080/"
        },
        "id": "6-bG2ZyC07fj",
        "outputId": "84ea81bb-4b67-496d-f1c6-affd14a73157"
      },
      "execution_count": null,
      "outputs": [
        {
          "output_type": "stream",
          "name": "stdout",
          "text": [
            "ENTER n: 20\n",
            "ENTER r: 5\n",
            "32, 1024, 7776, 32768, 100000, 248832, 537824, 1048576, 1889568, \n",
            "ENTER n: 20\n",
            "ENTER r: 5\n",
            "32, 1024, 7776, 32768, 100000, 248832, 537824, 1048576, 1889568, 3200000, "
          ]
        }
      ]
    },
    {
      "cell_type": "code",
      "source": [
        "#2(x)#FORLOOP\n",
        "n=int(input(\"ENTER n: \"))\n",
        "f=1\n",
        "for i in range(1,n + 1):\n",
        "       f = f*i\n",
        "print(f)\n",
        "\n",
        "#WHILE LOOP\n",
        "\n",
        "n=int(input(\"\\nENTER n: \"))\n",
        "f=1\n",
        "i=1\n",
        "while i<=n:\n",
        "  f=f*i\n",
        "  i=i+1\n",
        "print(f)"
      ],
      "metadata": {
        "colab": {
          "base_uri": "https://localhost:8080/"
        },
        "id": "sYY51UBB1K1F",
        "outputId": "8736f0de-49bf-40f9-cfc5-2e4234920689"
      },
      "execution_count": null,
      "outputs": [
        {
          "output_type": "stream",
          "name": "stdout",
          "text": [
            "ENTER n: 5\n",
            "120\n",
            "\n",
            "ENTER n: 5\n",
            "120\n"
          ]
        }
      ]
    },
    {
      "cell_type": "code",
      "source": [
        "#2(xi)#FOR LOOP\n",
        "n=int(input(\"ENTER n: \"))\n",
        "for i in range(1,n):\n",
        "  f=1\n",
        "  for j in range(1,i+1):\n",
        "    f=f*j\n",
        "  print(f,end=', ')\n",
        "\n",
        "#WHILE LOOP\n",
        "\n",
        "n=int(input(\"\\nENTER n: \"))\n",
        "f=1\n",
        "i=1\n",
        "while i<=n:\n",
        "  f=f*i\n",
        "  print(f,end=', ')\n",
        "  i=i+1"
      ],
      "metadata": {
        "colab": {
          "base_uri": "https://localhost:8080/"
        },
        "id": "lNZhFMOt1mBp",
        "outputId": "637f3827-24c5-4bd6-a424-6c6ddbebc28f"
      },
      "execution_count": null,
      "outputs": [
        {
          "output_type": "stream",
          "name": "stdout",
          "text": [
            "ENTER n: 15\n",
            "1, 2, 6, 24, 120, 720, 5040, 40320, 362880, 3628800, 39916800, 479001600, 6227020800, 87178291200, \n",
            "ENTER n: 15\n",
            "1, 2, 6, 24, 120, 720, 5040, 40320, 362880, 3628800, 39916800, 479001600, 6227020800, 87178291200, 1307674368000, "
          ]
        }
      ]
    },
    {
      "cell_type": "code",
      "source": [
        "#2(xii)#FOR LOOP\n",
        "n=int(input(\"ENTER n: \"))\n",
        "for i in range(1,n,2):\n",
        "  f=1\n",
        "  for j in range(1,i+1):\n",
        "    f=f*j\n",
        "  print(f,end=', ')\n",
        "\n"
      ],
      "metadata": {
        "colab": {
          "base_uri": "https://localhost:8080/"
        },
        "id": "3nuypK6h2B0I",
        "outputId": "a26f3555-6369-461e-e14d-de400c56a934"
      },
      "execution_count": null,
      "outputs": [
        {
          "output_type": "stream",
          "name": "stdout",
          "text": [
            "ENTER n: 20\n",
            "1, 6, 120, 5040, 362880, 39916800, 6227020800, 1307674368000, 355687428096000, 121645100408832000, "
          ]
        }
      ]
    },
    {
      "cell_type": "code",
      "source": [
        "#2(xiii)\n",
        "n=int(input(\"ENTER n: \"))\n",
        "for i in range(2,n,2):\n",
        "  f=1\n",
        "  for j in range(1,i+1):\n",
        "    f=f*j\n",
        "  print(f,end=', ')"
      ],
      "metadata": {
        "colab": {
          "base_uri": "https://localhost:8080/"
        },
        "id": "1GtMq_h22Yga",
        "outputId": "296516b3-aa81-4c5a-991c-c12688332862"
      },
      "execution_count": null,
      "outputs": [
        {
          "output_type": "stream",
          "name": "stdout",
          "text": [
            "ENTER n: 20\n",
            "2, 24, 720, 40320, 3628800, 479001600, 87178291200, 20922789888000, 6402373705728000, "
          ]
        }
      ]
    }
  ]
}
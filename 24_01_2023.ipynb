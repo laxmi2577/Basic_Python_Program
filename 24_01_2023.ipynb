{
  "nbformat": 4,
  "nbformat_minor": 0,
  "metadata": {
    "colab": {
      "provenance": [],
      "authorship_tag": "ABX9TyOtjaGZ62chR0tihuJJbM9N",
      "include_colab_link": true
    },
    "kernelspec": {
      "name": "python3",
      "display_name": "Python 3"
    },
    "language_info": {
      "name": "python"
    }
  },
  "cells": [
    {
      "cell_type": "markdown",
      "metadata": {
        "id": "view-in-github",
        "colab_type": "text"
      },
      "source": [
        "<a href=\"https://colab.research.google.com/github/laxmi2577/LAXMIRANJAN_AIML_2001206049/blob/main/24_01_2023.ipynb\" target=\"_parent\"><img src=\"https://colab.research.google.com/assets/colab-badge.svg\" alt=\"Open In Colab\"/></a>"
      ]
    },
    {
      "cell_type": "markdown",
      "source": [
        "1.INPUT RADIUS FINDS AREA OF CIRCLEAND PERIMETER OF THE CIRCE\n"
      ],
      "metadata": {
        "id": "hxoXGoXhI4hn"
      }
    },
    {
      "cell_type": "markdown",
      "source": [],
      "metadata": {
        "id": "lkTuX-lfI1r4"
      }
    },
    {
      "cell_type": "code",
      "source": [
        "r=int(input(\"ENTER RADIUS OF THE CIRCLE: \"))\n",
        "area=3.141*r*r\n",
        "perimeter=2*3.141*r\n",
        "print(\"THE AREA OF CIRCLE OF GIVEN CIRCLE IS=\",area)\n",
        "print(\"THE PERIMETER OF CIRCLE OF GIVEN CIRCLE IS=\",perimeter)"
      ],
      "metadata": {
        "colab": {
          "base_uri": "https://localhost:8080/"
        },
        "id": "cYJDOd1hL7YG",
        "outputId": "c263b66a-d3bb-441a-98cf-7ddb524f266b"
      },
      "execution_count": null,
      "outputs": [
        {
          "output_type": "stream",
          "name": "stdout",
          "text": [
            "ENTER RADIUS OF THE CIRCLE: 5\n",
            "THE AREA OF CIRCLE OF GIVEN CIRCLE IS= 78.525\n",
            "THE PERIMETER OF CIRCLE OF GIVEN CIRCLE IS= 31.41\n"
          ]
        }
      ]
    },
    {
      "cell_type": "markdown",
      "source": [
        "2.INPUT KILOMETER CONVERTS TO CENTIMETER,METER AND MILIMETER"
      ],
      "metadata": {
        "id": "rNlMlp62OS2V"
      }
    },
    {
      "cell_type": "code",
      "source": [
        "km=float(input(\"ENTER KILOMETER VALUE= \"))\n",
        "m=km*1000\n",
        "cm=km*100000\n",
        "mm=km*1000000\n",
        "print(\"THE GIVEN KILOMETER IN METER IS=\",m)\n",
        "print(\"THE GIVEN KILOMETER IN CENTIMETER IS=\",cm)\n",
        "print(\"THE GIVEN KILOMETER IN MILIMETER IS=\",mm)"
      ],
      "metadata": {
        "colab": {
          "base_uri": "https://localhost:8080/"
        },
        "id": "RWxRxvwZPpWS",
        "outputId": "47522ccd-3d24-4586-9f6f-98531cebfc61"
      },
      "execution_count": null,
      "outputs": [
        {
          "output_type": "stream",
          "name": "stdout",
          "text": [
            "ENTER KILOMETER VALUE= 6.3\n",
            "THE GIVEN KILOMETER IN METER IS= 6300.0\n",
            "THE GIVEN KILOMETER IN CENTIMETER IS= 630000.0\n",
            "THE GIVEN KILOMETER IN MILIMETER IS= 6300000.0\n"
          ]
        }
      ]
    },
    {
      "cell_type": "markdown",
      "source": [
        "3.INPUT TWO NUMBERS FIND SUM WITHOUT '+' OPERATOR"
      ],
      "metadata": {
        "id": "bnPPy0n8R09Z"
      }
    },
    {
      "cell_type": "code",
      "source": [
        "a=int(input(\"ENTER a VALUE=\"))\n",
        "b=int(input(\"ENTER b VALUE=\"))\n",
        "def sum(a,b):\n",
        "    for i in range(1,b + 1):\n",
        "        a= a+1\n",
        "    return a\n",
        "print('SUM OF NUMBERS=',sum(a,b))"
      ],
      "metadata": {
        "colab": {
          "base_uri": "https://localhost:8080/"
        },
        "id": "MZkijTJRSQQw",
        "outputId": "717f7384-3682-4972-ca0a-ca431d9a5f71"
      },
      "execution_count": null,
      "outputs": [
        {
          "output_type": "stream",
          "name": "stdout",
          "text": [
            "ENTER a VALUE=49\n",
            "ENTER b VALUE=48\n",
            "SUM OF NUMBERS= 97\n"
          ]
        }
      ]
    },
    {
      "cell_type": "markdown",
      "source": [
        "4.INPUT TWO NUMBERS FIND REMAINDER WITHOUT '%'"
      ],
      "metadata": {
        "id": "LdErE7w_Vxhw"
      }
    },
    {
      "cell_type": "code",
      "source": [
        "a=int(input(\"ENTER a VALUE=\"))\n",
        "b=int(input(\"ENTER b VALUE=\"))\n",
        "def rem(a,b):\n",
        "    return(a-b*(a//b))\n",
        "print(\"THE REMAINDER IS=\",rem(a,b))"
      ],
      "metadata": {
        "colab": {
          "base_uri": "https://localhost:8080/"
        },
        "id": "vdyGpXxlWK8a",
        "outputId": "60279daa-a999-4db4-bd04-3db4c1c12bf1"
      },
      "execution_count": null,
      "outputs": [
        {
          "output_type": "stream",
          "name": "stdout",
          "text": [
            "ENTER a VALUE=100\n",
            "ENTER b VALUE=7\n",
            "THE REMAINDER IS= 2\n"
          ]
        }
      ]
    },
    {
      "cell_type": "markdown",
      "source": [
        "5.INPUT TEMPERATURE FINDS CELSIUS AND FAHRENHEIT AND VICE-VERSA"
      ],
      "metadata": {
        "id": "9_ntXXBPWLf0"
      }
    },
    {
      "cell_type": "code",
      "source": [
        "Celsius=float(input(\"Enter the celsius value: \"))\n",
        "Fahrenheit =(Celsius * 1.8) + 32\n",
        "print(\"The Value in Fahrenheit\", Fahrenheit)\n",
        "Fahrenheit_f=float(input(\"Enter fahrenheit the value : \"))\n",
        "Celsius_c=int((Fahrenheit_f - 32) / 1.8)\n",
        "print(\"The value in celsius\",Celsius_c)"
      ],
      "metadata": {
        "id": "PGYSdRggWc1t",
        "colab": {
          "base_uri": "https://localhost:8080/"
        },
        "outputId": "29e9670b-ffe3-43b5-bcce-f7a6cf6818f8"
      },
      "execution_count": 7,
      "outputs": [
        {
          "output_type": "stream",
          "name": "stdout",
          "text": [
            "Enter the celsius value: 53\n",
            "The Value in Fahrenheit 127.4\n",
            "Enter fahrenheit the value : 78\n",
            "The value in celsius 25\n"
          ]
        }
      ]
    },
    {
      "cell_type": "markdown",
      "source": [
        "6.INPUT A NUMBER FINDS REVERSE NUMBER WITHOUT LOOPING STRUCTURE"
      ],
      "metadata": {
        "id": "ERiQBSUcWdHa"
      }
    },
    {
      "cell_type": "code",
      "source": [
        "n=int(input(\"Enter the number: \"))\n",
        "rev=int(str(n)[::-1])\n",
        "print(\"The reverse of the given number is:\",rev)"
      ],
      "metadata": {
        "colab": {
          "base_uri": "https://localhost:8080/"
        },
        "id": "uIpe6GurWrqj",
        "outputId": "3d0929ac-8445-4eb8-acd9-1ada68c3de46"
      },
      "execution_count": 10,
      "outputs": [
        {
          "output_type": "stream",
          "name": "stdout",
          "text": [
            "Enter the number: 49\n",
            "The reverse of the given number is: 94\n"
          ]
        }
      ]
    }
  ]
}